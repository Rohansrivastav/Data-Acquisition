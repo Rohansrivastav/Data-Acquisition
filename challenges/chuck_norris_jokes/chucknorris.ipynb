{
 "cells": [
  {
   "cell_type": "code",
   "execution_count": 1,
   "metadata": {},
   "outputs": [],
   "source": [
    "import requests\n",
    "import pandas as pd\n",
    "import bs4\n",
    "import json\n",
    "url=\"https://api.icndb.com/jokes/1\"\n",
    "df=pd.read_csv(\"ID.csv\")"
   ]
  },
  {
   "cell_type": "code",
   "execution_count": 2,
   "metadata": {},
   "outputs": [],
   "source": [
    "soup=bs4.BeautifulSoup"
   ]
  },
  {
   "cell_type": "code",
   "execution_count": 3,
   "metadata": {},
   "outputs": [],
   "source": [
    "r=requests.get(url)"
   ]
  },
  {
   "cell_type": "code",
   "execution_count": 4,
   "metadata": {},
   "outputs": [
    {
     "data": {
      "text/plain": [
       "'Chuck Norris uses ribbed condoms inside out, so he gets the pleasure.'"
      ]
     },
     "execution_count": 4,
     "metadata": {},
     "output_type": "execute_result"
    }
   ],
   "source": [
    "data=json.loads(r.content)\n",
    "data['value']['joke']"
   ]
  },
  {
   "cell_type": "code",
   "execution_count": 5,
   "metadata": {},
   "outputs": [
    {
     "data": {
      "text/plain": [
       "b'{ \"type\": \"success\", \"value\": { \"id\": 1, \"joke\": \"Chuck Norris uses ribbed condoms inside out, so he gets the pleasure.\", \"categories\": [\"explicit\"] } }'"
      ]
     },
     "execution_count": 5,
     "metadata": {},
     "output_type": "execute_result"
    }
   ],
   "source": [
    "i=1\n",
    "url=\"https://api.icndb.com/jokes/{}\".format(i)\n",
    "r=requests.get(url)\n",
    "r.content"
   ]
  },
  {
   "cell_type": "code",
   "execution_count": 6,
   "metadata": {},
   "outputs": [],
   "source": [
    "list_jokes=[]\n",
    "for i in range(1,500):\n",
    "    url=\"https://api.icndb.com/jokes/{}\".format(i)\n",
    "    r=requests.get(url)\n",
    "    data=json.loads(r.content)\n",
    "    if(data['type']=='success'):\n",
    "        joke=data['value']['joke']\n",
    "        list_jokes.append(joke)\n",
    "    else :\n",
    "        list_jokes.append(data['value'])\n",
    "        "
   ]
  },
  {
   "cell_type": "code",
   "execution_count": 10,
   "metadata": {},
   "outputs": [
    {
     "data": {
      "text/plain": [
       "'If you ask Chuck Norris what time it is, he always answers &quot;Two seconds till&quot;. After you ask &quot;Two seconds to what?&quot;, he roundhouse kicks you in the face.'"
      ]
     },
     "execution_count": 10,
     "metadata": {},
     "output_type": "execute_result"
    }
   ],
   "source": [
    "list_jokes[3]"
   ]
  },
  {
   "cell_type": "code",
   "execution_count": 18,
   "metadata": {},
   "outputs": [],
   "source": [
    "with open('chucknorrisjokes.csv','w')as f:\n",
    "    header_string='ID,JOKE'\n",
    "    header_string+='\\n'\n",
    "    f.write(header_string)\n",
    "    for i,j in enumerate(list_jokes):\n",
    "        j=j.replace(',',';')\n",
    "        jokes=\"{},\".format(i+1)+j\n",
    "        jokes+='\\n'\n",
    "        f.write(jokes)"
   ]
  },
  {
   "cell_type": "code",
   "execution_count": 19,
   "metadata": {},
   "outputs": [
    {
     "data": {
      "text/html": [
       "<div>\n",
       "<style scoped>\n",
       "    .dataframe tbody tr th:only-of-type {\n",
       "        vertical-align: middle;\n",
       "    }\n",
       "\n",
       "    .dataframe tbody tr th {\n",
       "        vertical-align: top;\n",
       "    }\n",
       "\n",
       "    .dataframe thead th {\n",
       "        text-align: right;\n",
       "    }\n",
       "</style>\n",
       "<table border=\"1\" class=\"dataframe\">\n",
       "  <thead>\n",
       "    <tr style=\"text-align: right;\">\n",
       "      <th></th>\n",
       "      <th>ID</th>\n",
       "      <th>JOKE</th>\n",
       "    </tr>\n",
       "  </thead>\n",
       "  <tbody>\n",
       "    <tr>\n",
       "      <th>0</th>\n",
       "      <td>1</td>\n",
       "      <td>Chuck Norris uses ribbed condoms inside out; s...</td>\n",
       "    </tr>\n",
       "    <tr>\n",
       "      <th>1</th>\n",
       "      <td>2</td>\n",
       "      <td>MacGyver can build an airplane out of gum and ...</td>\n",
       "    </tr>\n",
       "    <tr>\n",
       "      <th>2</th>\n",
       "      <td>3</td>\n",
       "      <td>Chuck Norris doesn't read books. He stares the...</td>\n",
       "    </tr>\n",
       "    <tr>\n",
       "      <th>3</th>\n",
       "      <td>4</td>\n",
       "      <td>If you ask Chuck Norris what time it is; he al...</td>\n",
       "    </tr>\n",
       "    <tr>\n",
       "      <th>4</th>\n",
       "      <td>5</td>\n",
       "      <td>Chuck Norris lost his virginity before his dad...</td>\n",
       "    </tr>\n",
       "    <tr>\n",
       "      <th>...</th>\n",
       "      <td>...</td>\n",
       "      <td>...</td>\n",
       "    </tr>\n",
       "    <tr>\n",
       "      <th>494</th>\n",
       "      <td>495</td>\n",
       "      <td>Chuck Norris doesn't needs try-catch; exceptio...</td>\n",
       "    </tr>\n",
       "    <tr>\n",
       "      <th>495</th>\n",
       "      <td>496</td>\n",
       "      <td>Chuck Norris went out of an infinite loop.</td>\n",
       "    </tr>\n",
       "    <tr>\n",
       "      <th>496</th>\n",
       "      <td>497</td>\n",
       "      <td>If Chuck Norris writes code with bugs; the bug...</td>\n",
       "    </tr>\n",
       "    <tr>\n",
       "      <th>497</th>\n",
       "      <td>498</td>\n",
       "      <td>Chuck Norris hosting is 101% uptime guaranteed.</td>\n",
       "    </tr>\n",
       "    <tr>\n",
       "      <th>498</th>\n",
       "      <td>499</td>\n",
       "      <td>Chuck Norris's keyboard has the Any key.</td>\n",
       "    </tr>\n",
       "  </tbody>\n",
       "</table>\n",
       "<p>499 rows × 2 columns</p>\n",
       "</div>"
      ],
      "text/plain": [
       "      ID                                               JOKE\n",
       "0      1  Chuck Norris uses ribbed condoms inside out; s...\n",
       "1      2  MacGyver can build an airplane out of gum and ...\n",
       "2      3  Chuck Norris doesn't read books. He stares the...\n",
       "3      4  If you ask Chuck Norris what time it is; he al...\n",
       "4      5  Chuck Norris lost his virginity before his dad...\n",
       "..   ...                                                ...\n",
       "494  495  Chuck Norris doesn't needs try-catch; exceptio...\n",
       "495  496         Chuck Norris went out of an infinite loop.\n",
       "496  497  If Chuck Norris writes code with bugs; the bug...\n",
       "497  498    Chuck Norris hosting is 101% uptime guaranteed.\n",
       "498  499           Chuck Norris's keyboard has the Any key.\n",
       "\n",
       "[499 rows x 2 columns]"
      ]
     },
     "execution_count": 19,
     "metadata": {},
     "output_type": "execute_result"
    }
   ],
   "source": [
    "import pandas as pd\n",
    "df1=pd.read_csv(\"chucknorrisjokes.csv\")\n",
    "df1"
   ]
  },
  {
   "cell_type": "code",
   "execution_count": null,
   "metadata": {},
   "outputs": [],
   "source": []
  }
 ],
 "metadata": {
  "kernelspec": {
   "display_name": "Python 3",
   "language": "python",
   "name": "python3"
  },
  "language_info": {
   "codemirror_mode": {
    "name": "ipython",
    "version": 3
   },
   "file_extension": ".py",
   "mimetype": "text/x-python",
   "name": "python",
   "nbconvert_exporter": "python",
   "pygments_lexer": "ipython3",
   "version": "3.8.5"
  }
 },
 "nbformat": 4,
 "nbformat_minor": 4
}
