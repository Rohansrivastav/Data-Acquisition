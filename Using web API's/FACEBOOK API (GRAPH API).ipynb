{
 "cells": [
  {
   "cell_type": "code",
   "execution_count": 5,
   "metadata": {},
   "outputs": [
    {
     "name": "stdout",
     "output_type": "stream",
     "text": [
      "<Response [200]>\n"
     ]
    }
   ],
   "source": [
    "##GRAPH API IS THE PRIMARY WAY FOR APPS TO WRITE AND READ TO THE FACEBOOK SOCIAL GRAPH\n",
    "import requests\n",
    "url=\"http://graph.facebook.com/4/picture?type=large\"\n",
    "r=requests.get(url)\n",
    "print(r)"
   ]
  },
  {
   "cell_type": "code",
   "execution_count": 4,
   "metadata": {},
   "outputs": [],
   "source": [
    "##scraping an image of a user id (4 which corresponds to mark zuckerberg)\n",
    "##since r .content will return in the form of binary encoded so in order to interpret will open this in a write binary mode file\n",
    "with open(\"mark.jpg\",'wb')as f:\n",
    "    f.write(r.content)"
   ]
  },
  {
   "cell_type": "code",
   "execution_count": null,
   "metadata": {},
   "outputs": [],
   "source": []
  }
 ],
 "metadata": {
  "kernelspec": {
   "display_name": "Python 3",
   "language": "python",
   "name": "python3"
  },
  "language_info": {
   "codemirror_mode": {
    "name": "ipython",
    "version": 3
   },
   "file_extension": ".py",
   "mimetype": "text/x-python",
   "name": "python",
   "nbconvert_exporter": "python",
   "pygments_lexer": "ipython3",
   "version": "3.8.5"
  }
 },
 "nbformat": 4,
 "nbformat_minor": 4
}
